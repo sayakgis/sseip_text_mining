{
 "cells": [
  {
   "cell_type": "code",
   "execution_count": null,
   "metadata": {},
   "outputs": [],
   "source": [
    "#hide\n",
    "from sseip_text_mining.core import *"
   ]
  },
  {
   "cell_type": "markdown",
   "metadata": {},
   "source": [
    "# SSEIP Lesson Observation\n",
    "\n",
    "> This project is for SSEIP lesson observation analytics. We have data from 2018 for observations of techers performance/activity in each class/session. The typical data size is more than 65 thousand rows. We also have feedback about the techer is natural english language, which we would like to explore more and make actionable insight from the data.\n",
    "\n",
    "> The client wanted to know basic three questions:\n",
    ">> 1) What were the most prominent stars, wishes and feedback\n",
    "\n",
    ">> 2) How did this vary with assessments of lesson quality (e.g. a higher score in column BG which covers how well the lesson plan was followed)\n",
    "\n",
    ">> 3) How did the most common stars, wish and feedback change over time - from 2018 to 2020 (or early 2021) which is what our data covers.\n"
   ]
  },
  {
   "cell_type": "markdown",
   "metadata": {},
   "source": [
    "This file will become your README and also the index of your documentation."
   ]
  },
  {
   "cell_type": "markdown",
   "metadata": {},
   "source": [
    "## Install"
   ]
  },
  {
   "cell_type": "markdown",
   "metadata": {},
   "source": [
    "`pip install sseip_text_mining`"
   ]
  },
  {
   "cell_type": "markdown",
   "metadata": {},
   "source": [
    "## How to use"
   ]
  },
  {
   "cell_type": "markdown",
   "metadata": {},
   "source": [
    "Fill me in please! Don't forget code examples:"
   ]
  },
  {
   "cell_type": "code",
   "execution_count": null,
   "metadata": {},
   "outputs": [
    {
     "data": {
      "text/plain": [
       "2"
      ]
     },
     "execution_count": null,
     "metadata": {},
     "output_type": "execute_result"
    }
   ],
   "source": [
    "1+1"
   ]
  },
  {
   "cell_type": "code",
   "execution_count": null,
   "metadata": {},
   "outputs": [],
   "source": []
  }
 ],
 "metadata": {
  "kernelspec": {
   "display_name": "Python 3",
   "language": "python",
   "name": "python3"
  }
 },
 "nbformat": 4,
 "nbformat_minor": 2
}
